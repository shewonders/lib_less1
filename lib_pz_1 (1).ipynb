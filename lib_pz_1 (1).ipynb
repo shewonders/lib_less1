{
 "cells": [
  {
   "cell_type": "code",
   "execution_count": 18,
   "id": "c7e657b9",
   "metadata": {
    "scrolled": true
   },
   "outputs": [
    {
     "name": "stdout",
     "output_type": "stream",
     "text": [
      "Note: you may need to restart the kernel to use updated packages.\n"
     ]
    },
    {
     "name": "stderr",
     "output_type": "stream",
     "text": [
      "\n",
      "Usage:   \n",
      "  C:\\Users\\Darya\\anaconda3\\python.exe -m pip install [options] <requirement specifier> [package-index-options] ...\n",
      "  C:\\Users\\Darya\\anaconda3\\python.exe -m pip install [options] -r <requirements file> [package-index-options] ...\n",
      "  C:\\Users\\Darya\\anaconda3\\python.exe -m pip install [options] [-e] <vcs project url> ...\n",
      "  C:\\Users\\Darya\\anaconda3\\python.exe -m pip install [options] [-e] <local project path> ...\n",
      "  C:\\Users\\Darya\\anaconda3\\python.exe -m pip install [options] <archive url/path> ...\n",
      "\n",
      "no such option: --grade\n"
     ]
    }
   ],
   "source": [
    "pip install --grade pillow"
   ]
  },
  {
   "cell_type": "markdown",
   "id": "47edc2e2",
   "metadata": {},
   "source": [
    "task1"
   ]
  },
  {
   "cell_type": "code",
   "execution_count": 28,
   "id": "3fe81720",
   "metadata": {},
   "outputs": [
    {
     "name": "stdout",
     "output_type": "stream",
     "text": [
      "[[2.  8.4]]\n"
     ]
    }
   ],
   "source": [
    "import numpy as np\n",
    "a = np.array ([[1,6],\n",
    "             [2,8],\n",
    "             [3,11],\n",
    "             [3,10],\n",
    "             [1,7]])\n",
    "mean_a = np.array([np.mean(a, axis=0)])\n",
    "print (mean_a)"
   ]
  },
  {
   "cell_type": "code",
   "execution_count": 25,
   "id": "b5ee8e40",
   "metadata": {},
   "outputs": [
    {
     "name": "stdout",
     "output_type": "stream",
     "text": [
      "[[ 1  6]\n",
      " [ 2  8]\n",
      " [ 3 11]\n",
      " [ 3 10]\n",
      " [ 1  7]]\n"
     ]
    }
   ],
   "source": [
    "print (a)"
   ]
  },
  {
   "cell_type": "markdown",
   "id": "6658b068",
   "metadata": {},
   "source": [
    "task2"
   ]
  },
  {
   "cell_type": "code",
   "execution_count": 31,
   "id": "133ab2ea",
   "metadata": {},
   "outputs": [
    {
     "name": "stdout",
     "output_type": "stream",
     "text": [
      "[[ 3.  14.4]\n",
      " [ 4.  16.4]\n",
      " [ 5.  19.4]\n",
      " [ 5.  18.4]\n",
      " [ 3.  15.4]]\n"
     ]
    }
   ],
   "source": [
    "a_centered = a + mean_a\n",
    "print (a_centered)"
   ]
  },
  {
   "cell_type": "markdown",
   "id": "0822c95e",
   "metadata": {},
   "source": [
    "task3"
   ]
  },
  {
   "cell_type": "code",
   "execution_count": 38,
   "id": "aa3171ef",
   "metadata": {},
   "outputs": [
    {
     "name": "stdout",
     "output_type": "stream",
     "text": [
      "344.0\n",
      "86.0\n"
     ]
    }
   ],
   "source": [
    "a_centered_sp = a_centered[:,0].dot(a_centered[:,1])\n",
    "print (a_centered_sp)\n",
    "ratio = a_centered_sp / (a_centered[:,0].size - 1)\n",
    "print (ratio)"
   ]
  },
  {
   "cell_type": "markdown",
   "id": "c1e6a34d",
   "metadata": {},
   "source": [
    "task4"
   ]
  },
  {
   "cell_type": "code",
   "execution_count": 39,
   "id": "b7266089",
   "metadata": {},
   "outputs": [
    {
     "name": "stdout",
     "output_type": "stream",
     "text": [
      "[[ 1  2  3  3  1]\n",
      " [ 6  8 11 10  7]]\n"
     ]
    },
    {
     "data": {
      "text/plain": [
       "<function numpy.cov(m, y=None, rowvar=True, bias=False, ddof=None, fweights=None, aweights=None, *, dtype=None)>"
      ]
     },
     "execution_count": 39,
     "metadata": {},
     "output_type": "execute_result"
    }
   ],
   "source": [
    "m = a.T\n",
    "print (m)\n",
    "np.cov"
   ]
  },
  {
   "cell_type": "markdown",
   "id": "f3a14120",
   "metadata": {},
   "source": [
    "# PANDAS"
   ]
  },
  {
   "cell_type": "markdown",
   "id": "b0c67e4b",
   "metadata": {},
   "source": [
    "task1"
   ]
  },
  {
   "cell_type": "code",
   "execution_count": 52,
   "id": "d44f8a5a",
   "metadata": {},
   "outputs": [
    {
     "name": "stdout",
     "output_type": "stream",
     "text": [
      "   author_id  author_name\n",
      "0          1     Тургенев\n",
      "1          2        Чехов\n",
      "2          3  Достоевский\n"
     ]
    }
   ],
   "source": [
    "import pandas as pd\n",
    "authors = pd.DataFrame({'author_id':[1,2,3],\n",
    "                       'author_name': ['Тургенев', 'Чехов', 'Достоевский']},\n",
    "                      columns = ['author_id', 'author_name'])\n",
    "print (authors)"
   ]
  },
  {
   "cell_type": "code",
   "execution_count": 58,
   "id": "6922c341",
   "metadata": {},
   "outputs": [
    {
     "name": "stdout",
     "output_type": "stream",
     "text": [
      "   author_id            book_title  price\n",
      "0          1           Отцы и дети    500\n",
      "1          1                 Рудин    800\n",
      "2          1     Дворянское гнездо    200\n",
      "3          2      Толстый и тонкий    100\n",
      "4          2       Дама с собачкой    400\n",
      "5          3                 Гроза    400\n",
      "6          3  Таланты и поклонники    500\n"
     ]
    }
   ],
   "source": [
    "books = pd.DataFrame({'author_id':[1,1,1,2,2,3,3],\n",
    "                      'book_title':['Отцы и дети', 'Рудин', 'Дворянское гнездо', 'Толстый и тонкий', \n",
    "                      'Дама с собачкой','Гроза', 'Таланты и поклонники'], \n",
    "                      'price':[500, 800, 200, 100, 400, 400, 500]},\n",
    "                      columns = ['author_id', 'book_title', 'price'])\n",
    "print (books)"
   ]
  },
  {
   "cell_type": "markdown",
   "id": "c877fc68",
   "metadata": {},
   "source": [
    "task2"
   ]
  },
  {
   "cell_type": "code",
   "execution_count": 96,
   "id": "c306809f",
   "metadata": {},
   "outputs": [
    {
     "name": "stdout",
     "output_type": "stream",
     "text": [
      "   author_id  author_name            book_title  price\n",
      "0          1     Тургенев           Отцы и дети    500\n",
      "1          1     Тургенев                 Рудин    800\n",
      "2          1     Тургенев     Дворянское гнездо    200\n",
      "3          2        Чехов      Толстый и тонкий    100\n",
      "4          2        Чехов       Дама с собачкой    400\n",
      "5          3  Достоевский                 Гроза    400\n",
      "6          3  Достоевский  Таланты и поклонники    500\n"
     ]
    }
   ],
   "source": [
    "authors_price = pd.merge(authors, books, on='author_id', how='inner')\n",
    "print(authors_price)"
   ]
  },
  {
   "cell_type": "markdown",
   "id": "14f2ef6a",
   "metadata": {},
   "source": [
    "task3"
   ]
  },
  {
   "cell_type": "code",
   "execution_count": 148,
   "id": "b2dbce7e",
   "metadata": {},
   "outputs": [
    {
     "name": "stdout",
     "output_type": "stream",
     "text": [
      "   author_id  author_name            book_title  price\n",
      "1          1     Тургенев                 Рудин    800\n",
      "0          1     Тургенев           Отцы и дети    500\n",
      "6          3  Достоевский  Таланты и поклонники    500\n",
      "4          2        Чехов       Дама с собачкой    400\n",
      "5          3  Достоевский                 Гроза    400\n"
     ]
    }
   ],
   "source": [
    "top5 = authors_price.nlargest(5,'price')\n",
    "print(top5)"
   ]
  },
  {
   "cell_type": "markdown",
   "id": "8c6bcc0b",
   "metadata": {},
   "source": [
    "task4"
   ]
  },
  {
   "cell_type": "code",
   "execution_count": 152,
   "id": "3ae4b3e8",
   "metadata": {},
   "outputs": [
    {
     "name": "stdout",
     "output_type": "stream",
     "text": [
      "   author_id  author_name        book_title  price\n",
      "0          1     Тургенев       Отцы и дети    500\n",
      "3          2        Чехов  Толстый и тонкий    100\n",
      "5          3  Достоевский             Гроза    400\n",
      "   author_id  author_name\n",
      "0          1     Тургенев\n",
      "3          2        Чехов\n",
      "5          3  Достоевский\n",
      "   author_id  price_min  price_max  price_mean\n",
      "0          1        200        800       500.0\n",
      "1          2        100        400       250.0\n",
      "2          3        400        500       450.0\n",
      "   author_id  author_name  price_min  price_max  price_mean\n",
      "0          1     Тургенев        200        800       500.0\n",
      "1          2        Чехов        100        400       250.0\n",
      "2          3  Достоевский        400        500       450.0\n"
     ]
    }
   ],
   "source": [
    "authors_unique = authors_price.drop_duplicates('author_name')\n",
    "print(authors_unique)\n",
    "authors_stat = authors_unique.drop(['book_title', 'price'], axis=1)\n",
    "print(authors_stat)\n",
    "Tur = authors_price[authors_price['author_id']==1]\n",
    "Che = authors_price[authors_price['author_id']==2]\n",
    "Dos = authors_price[authors_price['author_id']==3]\n",
    "price_data = pd.DataFrame({'author_id': [1,2,3],\n",
    "                            'price_min': [Tur['price'].min(), Che['price'].min(), Dos['price'].min()],\n",
    "                            'price_max': [Tur['price'].max(), Che['price'].max(), Dos['price'].max()],\n",
    "                            'price_mean': [Tur['price'].mean(), Che['price'].mean(), Dos['price'].mean()]},\n",
    "                            columns = ['author_id','price_min', 'price_max', 'price_mean'])\n",
    "print(price_data)\n",
    "authors_stat = pd.merge(authors_stat, price_data, on='author_id', how='inner')\n",
    "print(authors_stat)\n"
   ]
  },
  {
   "cell_type": "markdown",
   "id": "915537aa",
   "metadata": {},
   "source": [
    "Task5"
   ]
  },
  {
   "cell_type": "code",
   "execution_count": 176,
   "id": "f9dc0347",
   "metadata": {},
   "outputs": [
    {
     "name": "stdout",
     "output_type": "stream",
     "text": [
      "   author_id  author_name            book_title  price cover\n",
      "0          1     Тургенев           Отцы и дети    500     т\n",
      "1          1     Тургенев                 Рудин    800     м\n",
      "2          1     Тургенев     Дворянское гнездо    200     м\n",
      "3          2        Чехов      Толстый и тонкий    100     т\n",
      "4          2        Чехов       Дама с собачкой    400     т\n",
      "5          3  Достоевский                 Гроза    400     м\n",
      "6          3  Достоевский  Таланты и поклонники    500     м\n",
      "author_name Достоевский Тургенев      Чехов\n",
      "cover                 м        м    т     т\n",
      "price               900     1000  500   500\n"
     ]
    }
   ],
   "source": [
    "cover = ['т', 'м', 'м', 'т', 'т', 'м', 'м']\n",
    "authors_price['cover']=cover\n",
    "print(authors_price)\n",
    "authors_price1 = pd.pivot_table(authors_price, index = ['author_name', 'cover'], values=['price'], aggfunc=np.sum).T\n",
    "print(authors_price1)\n",
    "\n",
    "\n"
   ]
  },
  {
   "cell_type": "code",
   "execution_count": 178,
   "id": "f1dfc7d1",
   "metadata": {},
   "outputs": [],
   "source": [
    "authors_price1.to_pickle('book_info.pkl')"
   ]
  },
  {
   "cell_type": "code",
   "execution_count": 179,
   "id": "2c001643",
   "metadata": {},
   "outputs": [],
   "source": [
    "book=pd.read_pickle('book_info.pkl')"
   ]
  },
  {
   "cell_type": "code",
   "execution_count": 180,
   "id": "a5d033da",
   "metadata": {},
   "outputs": [
    {
     "name": "stdout",
     "output_type": "stream",
     "text": [
      "author_name Достоевский Тургенев      Чехов\n",
      "cover                 м        м    т     т\n",
      "price               900     1000  500   500\n"
     ]
    }
   ],
   "source": [
    "print(book)"
   ]
  },
  {
   "cell_type": "code",
   "execution_count": null,
   "id": "73842370",
   "metadata": {},
   "outputs": [],
   "source": []
  }
 ],
 "metadata": {
  "kernelspec": {
   "display_name": "Python 3 (ipykernel)",
   "language": "python",
   "name": "python3"
  },
  "language_info": {
   "codemirror_mode": {
    "name": "ipython",
    "version": 3
   },
   "file_extension": ".py",
   "mimetype": "text/x-python",
   "name": "python",
   "nbconvert_exporter": "python",
   "pygments_lexer": "ipython3",
   "version": "3.9.13"
  }
 },
 "nbformat": 4,
 "nbformat_minor": 5
}
